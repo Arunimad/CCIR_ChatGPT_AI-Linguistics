{
  "nbformat": 4,
  "nbformat_minor": 0,
  "metadata": {
    "colab": {
      "provenance": [],
      "authorship_tag": "ABX9TyOYb5W5jDez7mwDa0wjW1xt",
      "include_colab_link": true
    },
    "kernelspec": {
      "name": "python3",
      "display_name": "Python 3"
    },
    "language_info": {
      "name": "python"
    }
  },
  "cells": [
    {
      "cell_type": "markdown",
      "metadata": {
        "id": "view-in-github",
        "colab_type": "text"
      },
      "source": [
        "<a href=\"https://colab.research.google.com/github/Arunimad/CCIR_ChatGPT_AI-Linguistics/blob/main/TA5_2(PyTorch_intro).ipynb\" target=\"_parent\"><img src=\"https://colab.research.google.com/assets/colab-badge.svg\" alt=\"Open In Colab\"/></a>"
      ]
    },
    {
      "cell_type": "markdown",
      "source": [
        "Introduction and quickstart to Pytorch\n",
        "\n",
        "\n",
        "PyTorch is an optimized Deep Learning tensor library based on Python and Torch and is mainly used for applications using GPUs and CPUs.\n",
        "\n",
        "PyTorch consists of 4 main packages:\n",
        "\n",
        "torch: a general purpose array library similar to Numpy that can do computations on GPU\n",
        "torch.autograd: a package for automatically obtaining gradients\n",
        "torch.nn: a neural net library with common layers and cost functions\n",
        "torch.optim: an optimization package with common optimization algorithms like SGD, Adam, etc"
      ],
      "metadata": {
        "id": "VREW_jTeLypt"
      }
    },
    {
      "cell_type": "markdown",
      "source": [
        "Funfact\n",
        "\n",
        "\"PyTorch was initially an internship project for Adam Paszke, who at the time was a student of Soumith Chintala, one of the developers of Torch. Paszke and several others worked with developers from different universities and companies to test PyTorch. Chintala currently works as a researcher at Meta -- formerly Facebook -- which uses PyTorch as its underlying platform for driving all AI workloads.\""
      ],
      "metadata": {
        "id": "wzIB8lkQMJIC"
      }
    },
    {
      "cell_type": "code",
      "execution_count": null,
      "metadata": {
        "id": "I1c9_Wj6Ls2e"
      },
      "outputs": [],
      "source": [
        "# import pytorch libraries\n",
        "%matplotlib inline\n",
        "import torch\n",
        "import torch.autograd as autograd\n",
        "import torch.nn as nn\n",
        "import torch.nn.functional as F\n",
        "import torch.optim as optim\n",
        "import numpy as np"
      ]
    },
    {
      "cell_type": "markdown",
      "source": [
        "Tensors - scalar, vector,matrix,and tensor\n",
        "\n",
        "You will sometimes see a 1-dimensional tensor called a vector.\n",
        "\n",
        "Likewise, a 2-dimensional tensor is often referred to as a matrix.\n",
        "\n",
        "Anything with more than two dimensions is generally just called a tensor."
      ],
      "metadata": {
        "id": "ikLV4-6ANI-z"
      }
    },
    {
      "cell_type": "code",
      "source": [
        "zeros = torch.zeros(2, 3)\n",
        "print(zeros)\n",
        "\n",
        "ones = torch.ones(2, 3)\n",
        "print(ones)\n",
        "\n",
        "torch.manual_seed(1729)\n",
        "random = torch.rand(2, 3)\n",
        "print(random)"
      ],
      "metadata": {
        "colab": {
          "base_uri": "https://localhost:8080/"
        },
        "id": "sUJqbmgSNN54",
        "outputId": "8aee6701-a9c6-456b-bd58-d15633652026"
      },
      "execution_count": null,
      "outputs": [
        {
          "output_type": "stream",
          "name": "stdout",
          "text": [
            "tensor([[0., 0., 0.],\n",
            "        [0., 0., 0.]])\n",
            "tensor([[1., 1., 1.],\n",
            "        [1., 1., 1.]])\n",
            "tensor([[0.3126, 0.3791, 0.3087],\n",
            "        [0.0736, 0.4216, 0.0691]])\n"
          ]
        }
      ]
    },
    {
      "cell_type": "markdown",
      "source": [
        "Fun fact ..\n",
        ".empty (); memory allocation"
      ],
      "metadata": {
        "id": "uGE32OMSNSiG"
      }
    },
    {
      "cell_type": "code",
      "source": [
        "x = torch.empty(3, 4)\n",
        "print(type(x))\n",
        "print(x)"
      ],
      "metadata": {
        "colab": {
          "base_uri": "https://localhost:8080/"
        },
        "id": "bO9Ly8n8NaIM",
        "outputId": "c94d0532-b1fe-4ef5-cb5b-9e461c2c55af"
      },
      "execution_count": null,
      "outputs": [
        {
          "output_type": "stream",
          "name": "stdout",
          "text": [
            "<class 'torch.Tensor'>\n",
            "tensor([[ 8.0943e+30,  4.4099e-41, -1.9023e-36,  4.4097e-41],\n",
            "        [ 8.0944e+30,  4.4099e-41,  7.7159e+30,  4.4099e-41],\n",
            "        [ 8.0943e+30,  4.4099e-41, -1.9035e-36,  4.4097e-41]])\n"
          ]
        }
      ]
    },
    {
      "cell_type": "code",
      "source": [
        "a = torch.ones((2, 3), dtype=torch.int16)\n",
        "print(a)\n",
        "\n",
        "b = torch.rand((2, 3), dtype=torch.float64)\n",
        "print(b)\n",
        "\n",
        "c = b.to(torch.int32)\n",
        "print(c)"
      ],
      "metadata": {
        "colab": {
          "base_uri": "https://localhost:8080/"
        },
        "id": "IvwDYjVlNmEo",
        "outputId": "877d5190-cfc8-406f-dacd-c6c7a9f747c5"
      },
      "execution_count": null,
      "outputs": [
        {
          "output_type": "stream",
          "name": "stdout",
          "text": [
            "tensor([[1, 1, 1],\n",
            "        [1, 1, 1]], dtype=torch.int16)\n",
            "tensor([[0.8658, 0.7299, 0.3020],\n",
            "        [0.9021, 0.3627, 0.9826]], dtype=torch.float64)\n",
            "tensor([[0, 0, 0],\n",
            "        [0, 0, 0]], dtype=torch.int32)\n"
          ]
        }
      ]
    },
    {
      "cell_type": "code",
      "source": [
        "print(f\"This is the shape of our tensor: {c.shape}\")"
      ],
      "metadata": {
        "colab": {
          "base_uri": "https://localhost:8080/"
        },
        "id": "2ulcIMb3N9s8",
        "outputId": "ebf57aa5-a02a-44ea-d87b-baa08078adb7"
      },
      "execution_count": null,
      "outputs": [
        {
          "output_type": "stream",
          "name": "stdout",
          "text": [
            "This is the shape of our tensor: torch.Size([2, 3])\n"
          ]
        }
      ]
    },
    {
      "cell_type": "code",
      "source": [
        "print(f\"This is the data type of our tensor: {c.dtype}\")"
      ],
      "metadata": {
        "colab": {
          "base_uri": "https://localhost:8080/"
        },
        "id": "z7scCuPKOCAu",
        "outputId": "fdc5c639-be38-4690-a77d-28918968a81f"
      },
      "execution_count": null,
      "outputs": [
        {
          "output_type": "stream",
          "name": "stdout",
          "text": [
            "This is the data type of our tensor: torch.int32\n"
          ]
        }
      ]
    },
    {
      "cell_type": "markdown",
      "source": [
        "tensor from python list"
      ],
      "metadata": {
        "id": "zGk9HBtOOKfl"
      }
    },
    {
      "cell_type": "code",
      "source": [
        "torch.tensor([[1, 2, 3], [4, 5, 6]])"
      ],
      "metadata": {
        "colab": {
          "base_uri": "https://localhost:8080/"
        },
        "id": "Z2JsPcNXONAw",
        "outputId": "e102dd77-3bd0-498e-e385-80553339121b"
      },
      "execution_count": null,
      "outputs": [
        {
          "output_type": "execute_result",
          "data": {
            "text/plain": [
              "tensor([[1, 2, 3],\n",
              "        [4, 5, 6]])"
            ]
          },
          "metadata": {},
          "execution_count": 7
        }
      ]
    },
    {
      "cell_type": "markdown",
      "source": [
        "tensor from numpy"
      ],
      "metadata": {
        "id": "ctlFlMKBOOnN"
      }
    },
    {
      "cell_type": "code",
      "source": [
        "arr = np.array([[1, 2, 3], [4, 5, 6]])\n",
        "tens = torch.from_numpy(arr)\n",
        "tens"
      ],
      "metadata": {
        "colab": {
          "base_uri": "https://localhost:8080/"
        },
        "id": "UCfJ77h_ORi8",
        "outputId": "b87e5ec1-269d-4792-9e83-4229ed0b9259"
      },
      "execution_count": null,
      "outputs": [
        {
          "output_type": "execute_result",
          "data": {
            "text/plain": [
              "tensor([[1, 2, 3],\n",
              "        [4, 5, 6]])"
            ]
          },
          "metadata": {},
          "execution_count": 8
        }
      ]
    },
    {
      "cell_type": "markdown",
      "source": [
        "Accessing our tensor"
      ],
      "metadata": {
        "id": "FgNTIYl-O0df"
      }
    },
    {
      "cell_type": "code",
      "source": [
        "test = torch.tensor([[1, 2, 3], [4, 5, 6], [7, 8, 9]])\n",
        "test"
      ],
      "metadata": {
        "colab": {
          "base_uri": "https://localhost:8080/"
        },
        "id": "Pt5oz7y6OaOE",
        "outputId": "31be50e8-f125-454d-a24b-de120750fde4"
      },
      "execution_count": null,
      "outputs": [
        {
          "output_type": "execute_result",
          "data": {
            "text/plain": [
              "tensor([[1, 2, 3],\n",
              "        [4, 5, 6],\n",
              "        [7, 8, 9]])"
            ]
          },
          "metadata": {},
          "execution_count": 9
        }
      ]
    },
    {
      "cell_type": "code",
      "source": [
        "#To access a single value in the tensor (Keep in mind that Python indexing starts at 0):\n",
        "print(f\"Value in cell 1, 0: {test[1,0]}\")\n",
        "print(f\"Value in cell 2, 2: {test[2,2]}\")"
      ],
      "metadata": {
        "colab": {
          "base_uri": "https://localhost:8080/"
        },
        "id": "dBbIguJKOeEg",
        "outputId": "8bae4dc6-9bc7-4604-d170-ba228bd91786"
      },
      "execution_count": null,
      "outputs": [
        {
          "output_type": "stream",
          "name": "stdout",
          "text": [
            "Value in cell 1, 0: 4\n",
            "Value in cell 2, 2: 9\n"
          ]
        }
      ]
    },
    {
      "cell_type": "code",
      "source": [
        "#To access a row in the tensor:\n",
        "print(f\"Row 0: {test[0]}\")\n",
        "print(f\"Row 2: {test[2]}\")"
      ],
      "metadata": {
        "colab": {
          "base_uri": "https://localhost:8080/"
        },
        "id": "CnrM4SXIOh0K",
        "outputId": "a31e6a8e-76a2-4036-e26d-6c420fc6829f"
      },
      "execution_count": null,
      "outputs": [
        {
          "output_type": "stream",
          "name": "stdout",
          "text": [
            "Row 0: tensor([1, 2, 3])\n",
            "Row 2: tensor([7, 8, 9])\n"
          ]
        }
      ]
    },
    {
      "cell_type": "code",
      "source": [
        "#To access a column in the tensor:\n",
        "print(f\"Column 0: {test[:, 0]}\")\n",
        "print(f\"Column 1: {test[:, 1]}\")"
      ],
      "metadata": {
        "colab": {
          "base_uri": "https://localhost:8080/"
        },
        "id": "wh89ITttOl0c",
        "outputId": "469d3970-8e8e-476d-f7d2-3fadd5e8a211"
      },
      "execution_count": null,
      "outputs": [
        {
          "output_type": "stream",
          "name": "stdout",
          "text": [
            "Column 0: tensor([1, 4, 7])\n",
            "Column 1: tensor([2, 5, 8])\n"
          ]
        }
      ]
    },
    {
      "cell_type": "markdown",
      "source": [
        "Basic math in tensor"
      ],
      "metadata": {
        "id": "p5qE7Gp_O3Ww"
      }
    },
    {
      "cell_type": "code",
      "source": [
        "test1 = test.clone()\n",
        "test2 = test.clone()"
      ],
      "metadata": {
        "id": "LoexK4oVO7zc"
      },
      "execution_count": null,
      "outputs": []
    },
    {
      "cell_type": "code",
      "source": [
        "test1 + test2"
      ],
      "metadata": {
        "colab": {
          "base_uri": "https://localhost:8080/"
        },
        "id": "XlrlsnnSO_3-",
        "outputId": "75faea0a-d0af-46e0-e247-8d6a5d5daa92"
      },
      "execution_count": null,
      "outputs": [
        {
          "output_type": "execute_result",
          "data": {
            "text/plain": [
              "tensor([[ 2,  4,  6],\n",
              "        [ 8, 10, 12],\n",
              "        [14, 16, 18]])"
            ]
          },
          "metadata": {},
          "execution_count": 14
        }
      ]
    },
    {
      "cell_type": "code",
      "source": [
        "#Addition\n",
        "torch.add(test1, test2)"
      ],
      "metadata": {
        "colab": {
          "base_uri": "https://localhost:8080/"
        },
        "id": "-2dJscHKPDva",
        "outputId": "679ef70a-79d2-472c-ab59-1c7b875b4916"
      },
      "execution_count": null,
      "outputs": [
        {
          "output_type": "execute_result",
          "data": {
            "text/plain": [
              "tensor([[ 2,  4,  6],\n",
              "        [ 8, 10, 12],\n",
              "        [14, 16, 18]])"
            ]
          },
          "metadata": {},
          "execution_count": 15
        }
      ]
    },
    {
      "cell_type": "code",
      "source": [
        "test1 - test2"
      ],
      "metadata": {
        "colab": {
          "base_uri": "https://localhost:8080/"
        },
        "id": "O0_dnuc5PMPm",
        "outputId": "047f410b-76af-4441-89e8-9df30263e610"
      },
      "execution_count": null,
      "outputs": [
        {
          "output_type": "execute_result",
          "data": {
            "text/plain": [
              "tensor([[0, 0, 0],\n",
              "        [0, 0, 0],\n",
              "        [0, 0, 0]])"
            ]
          },
          "metadata": {},
          "execution_count": 16
        }
      ]
    },
    {
      "cell_type": "code",
      "source": [
        "#Subtraction\n",
        "torch.sub(test1, test2)"
      ],
      "metadata": {
        "colab": {
          "base_uri": "https://localhost:8080/"
        },
        "id": "jwzxbB47PIrE",
        "outputId": "5c8579ed-8960-44ed-9844-2b5b6fdbb175"
      },
      "execution_count": null,
      "outputs": [
        {
          "output_type": "execute_result",
          "data": {
            "text/plain": [
              "tensor([[0, 0, 0],\n",
              "        [0, 0, 0],\n",
              "        [0, 0, 0]])"
            ]
          },
          "metadata": {},
          "execution_count": 17
        }
      ]
    },
    {
      "cell_type": "code",
      "source": [
        "test1 * test2"
      ],
      "metadata": {
        "colab": {
          "base_uri": "https://localhost:8080/"
        },
        "id": "TwFulVTUPR3T",
        "outputId": "6b531e33-88aa-4038-da09-a473ce05d380"
      },
      "execution_count": null,
      "outputs": [
        {
          "output_type": "execute_result",
          "data": {
            "text/plain": [
              "tensor([[ 1,  4,  9],\n",
              "        [16, 25, 36],\n",
              "        [49, 64, 81]])"
            ]
          },
          "metadata": {},
          "execution_count": 18
        }
      ]
    },
    {
      "cell_type": "code",
      "source": [
        "#Multiplication\n",
        "torch.mul(test1, test2)"
      ],
      "metadata": {
        "colab": {
          "base_uri": "https://localhost:8080/"
        },
        "id": "GLJMIJ9oPVBk",
        "outputId": "29408f34-47bf-4f6d-ec10-7302510edf3e"
      },
      "execution_count": null,
      "outputs": [
        {
          "output_type": "execute_result",
          "data": {
            "text/plain": [
              "tensor([[ 1,  4,  9],\n",
              "        [16, 25, 36],\n",
              "        [49, 64, 81]])"
            ]
          },
          "metadata": {},
          "execution_count": 19
        }
      ]
    },
    {
      "cell_type": "code",
      "source": [
        "test1 / test2"
      ],
      "metadata": {
        "colab": {
          "base_uri": "https://localhost:8080/"
        },
        "id": "jb3fFf0nPYmE",
        "outputId": "70f93d55-11b7-4cf0-a352-097cdd5085b6"
      },
      "execution_count": null,
      "outputs": [
        {
          "output_type": "execute_result",
          "data": {
            "text/plain": [
              "tensor([[1., 1., 1.],\n",
              "        [1., 1., 1.],\n",
              "        [1., 1., 1.]])"
            ]
          },
          "metadata": {},
          "execution_count": 20
        }
      ]
    },
    {
      "cell_type": "code",
      "source": [
        "#Division\n",
        "torch.div(test1, test2)"
      ],
      "metadata": {
        "colab": {
          "base_uri": "https://localhost:8080/"
        },
        "id": "ljAn2zofPcob",
        "outputId": "cd6ee181-c019-45fe-cc6f-09f407f91359"
      },
      "execution_count": null,
      "outputs": [
        {
          "output_type": "execute_result",
          "data": {
            "text/plain": [
              "tensor([[1., 1., 1.],\n",
              "        [1., 1., 1.],\n",
              "        [1., 1., 1.]])"
            ]
          },
          "metadata": {},
          "execution_count": 21
        }
      ]
    },
    {
      "cell_type": "code",
      "source": [
        "#Matrix Multiplication\n",
        "torch.matmul(test1, test2)"
      ],
      "metadata": {
        "colab": {
          "base_uri": "https://localhost:8080/"
        },
        "id": "2dIZs946PhgO",
        "outputId": "f9e21343-945a-4ff2-eed4-45e621804406"
      },
      "execution_count": null,
      "outputs": [
        {
          "output_type": "execute_result",
          "data": {
            "text/plain": [
              "tensor([[ 30,  36,  42],\n",
              "        [ 66,  81,  96],\n",
              "        [102, 126, 150]])"
            ]
          },
          "metadata": {},
          "execution_count": 22
        }
      ]
    },
    {
      "cell_type": "code",
      "source": [
        "#Matrix concatenation\n",
        "torch.cat([test1, test2], dim=1)"
      ],
      "metadata": {
        "colab": {
          "base_uri": "https://localhost:8080/"
        },
        "id": "oQW1P70EPnfg",
        "outputId": "9fd487d2-b8d6-453c-af3e-8251f61aa11f"
      },
      "execution_count": null,
      "outputs": [
        {
          "output_type": "execute_result",
          "data": {
            "text/plain": [
              "tensor([[1, 2, 3, 1, 2, 3],\n",
              "        [4, 5, 6, 4, 5, 6],\n",
              "        [7, 8, 9, 7, 8, 9]])"
            ]
          },
          "metadata": {},
          "execution_count": 23
        }
      ]
    },
    {
      "cell_type": "code",
      "source": [
        "#Transpose\n",
        "test1.T\n",
        "test2.T"
      ],
      "metadata": {
        "colab": {
          "base_uri": "https://localhost:8080/"
        },
        "id": "ubjynA-VPr13",
        "outputId": "8b08f9b2-3f5c-4e6b-f34e-e5cba7f9c923"
      },
      "execution_count": null,
      "outputs": [
        {
          "output_type": "execute_result",
          "data": {
            "text/plain": [
              "tensor([[1, 4, 7],\n",
              "        [2, 5, 8],\n",
              "        [3, 6, 9]])"
            ]
          },
          "metadata": {},
          "execution_count": 24
        }
      ]
    },
    {
      "cell_type": "code",
      "source": [
        "#also transpose\n",
        "test1.t()\n",
        "test2.t()"
      ],
      "metadata": {
        "colab": {
          "base_uri": "https://localhost:8080/"
        },
        "id": "JMKb1jETPz35",
        "outputId": "c93b5fe1-be9a-4346-9dfc-120d6adaa004"
      },
      "execution_count": null,
      "outputs": [
        {
          "output_type": "execute_result",
          "data": {
            "text/plain": [
              "tensor([[1, 4, 7],\n",
              "        [2, 5, 8],\n",
              "        [3, 6, 9]])"
            ]
          },
          "metadata": {},
          "execution_count": 25
        }
      ]
    },
    {
      "cell_type": "markdown",
      "source": [
        "Sigmoid and tenh functions are common activation fucntions used in NNs"
      ],
      "metadata": {
        "id": "LH-PJYprP_mZ"
      }
    },
    {
      "cell_type": "code",
      "source": [
        "#Sigmoid\n",
        "torch.sigmoid(test)"
      ],
      "metadata": {
        "colab": {
          "base_uri": "https://localhost:8080/"
        },
        "id": "LBWLI4FrQErc",
        "outputId": "c4f4ce4d-dc2d-4ef4-e727-4e6db7529573"
      },
      "execution_count": null,
      "outputs": [
        {
          "output_type": "execute_result",
          "data": {
            "text/plain": [
              "tensor([[0.7311, 0.8808, 0.9526],\n",
              "        [0.9820, 0.9933, 0.9975],\n",
              "        [0.9991, 0.9997, 0.9999]])"
            ]
          },
          "metadata": {},
          "execution_count": 26
        }
      ]
    },
    {
      "cell_type": "code",
      "source": [
        "#Tanh\n",
        "torch.tanh(test)"
      ],
      "metadata": {
        "colab": {
          "base_uri": "https://localhost:8080/"
        },
        "id": "HEo5LCNkQG31",
        "outputId": "718f2c01-1c51-495b-8c59-00e5e1884ba4"
      },
      "execution_count": null,
      "outputs": [
        {
          "output_type": "execute_result",
          "data": {
            "text/plain": [
              "tensor([[0.7616, 0.9640, 0.9951],\n",
              "        [0.9993, 0.9999, 1.0000],\n",
              "        [1.0000, 1.0000, 1.0000]])"
            ]
          },
          "metadata": {},
          "execution_count": 27
        }
      ]
    }
  ]
}